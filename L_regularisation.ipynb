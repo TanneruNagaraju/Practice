{
 "cells": [
  {
   "cell_type": "code",
   "execution_count": 1,
   "metadata": {},
   "outputs": [],
   "source": [
    "import numpy as np\n",
    "import matplotlib.pyplot as plt"
   ]
  },
  {
   "cell_type": "code",
   "execution_count": 2,
   "metadata": {},
   "outputs": [],
   "source": [
    "N = 50\n",
    "D = 50"
   ]
  },
  {
   "cell_type": "code",
   "execution_count": 14,
   "metadata": {},
   "outputs": [],
   "source": [
    "X = (np.random.random((N,D))-0.5)*10"
   ]
  },
  {
   "cell_type": "code",
   "execution_count": 15,
   "metadata": {},
   "outputs": [
    {
     "name": "stdout",
     "output_type": "stream",
     "text": [
      "[[ 1.57648244 -0.00459072  3.50830687 ...  0.18576132  2.30346364\n",
      "   0.58744825]\n",
      " [ 4.24698844 -3.67940107  1.33602763 ... -4.38831585  4.09709764\n",
      "  -1.93019271]\n",
      " [ 2.63234592 -3.33531209  1.75375677 ...  0.92324393 -2.84730764\n",
      "   0.84765033]\n",
      " ...\n",
      " [ 4.55547506  2.18056915  2.94778523 ... -3.85199924  2.04998612\n",
      "   2.90871681]\n",
      " [ 2.57618311 -2.37275029  2.71414092 ... -2.57925751 -0.09684943\n",
      "  -3.93543046]\n",
      " [ 2.35590581 -1.08869423 -3.54071407 ... -0.66777388  4.21655729\n",
      "  -4.42410267]]\n"
     ]
    }
   ],
   "source": [
    "print(X)"
   ]
  },
  {
   "cell_type": "code",
   "execution_count": 29,
   "metadata": {},
   "outputs": [
    {
     "data": {
      "text/plain": [
       "array([[-0.26813822, -0.33288426,  0.28511459, ...,  0.45336139,\n",
       "        -0.21712198,  0.30370528],\n",
       "       [ 0.17904898, -0.03828084, -0.06717331, ...,  0.37316889,\n",
       "        -0.26992786, -0.14365794],\n",
       "       [ 0.02648404,  0.40547256,  0.31512933, ...,  0.39361659,\n",
       "        -0.01451623, -0.40884986],\n",
       "       ...,\n",
       "       [ 0.41529936,  0.36198392,  0.17777827, ..., -0.2421291 ,\n",
       "         0.10321938, -0.26728326],\n",
       "       [ 0.42975349,  0.37300259,  0.19666273, ..., -0.10779953,\n",
       "         0.28570103, -0.41497583],\n",
       "       [ 0.22233519, -0.41759877, -0.3145053 , ...,  0.42440915,\n",
       "        -0.34933477, -0.16705948]])"
      ]
     },
     "execution_count": 29,
     "metadata": {},
     "output_type": "execute_result"
    }
   ],
   "source": [
    "np.random.random((N,D))-0.5"
   ]
  },
  {
   "cell_type": "code",
   "execution_count": 17,
   "metadata": {},
   "outputs": [],
   "source": [
    "w1 = np.array([1.0,0.5,-0.5] + [0]*(D-3)) # first 3 rows are 1.0,0.5,-0.5 remaining 47 values are zero"
   ]
  },
  {
   "cell_type": "code",
   "execution_count": 21,
   "metadata": {},
   "outputs": [
    {
     "name": "stdout",
     "output_type": "stream",
     "text": [
      "50\n"
     ]
    }
   ],
   "source": [
    "print(w1.size)"
   ]
  },
  {
   "cell_type": "code",
   "execution_count": 26,
   "metadata": {},
   "outputs": [
    {
     "data": {
      "text/plain": [
       "[0,\n",
       " 0,\n",
       " 0,\n",
       " 0,\n",
       " 0,\n",
       " 0,\n",
       " 0,\n",
       " 0,\n",
       " 0,\n",
       " 0,\n",
       " 0,\n",
       " 0,\n",
       " 0,\n",
       " 0,\n",
       " 0,\n",
       " 0,\n",
       " 0,\n",
       " 0,\n",
       " 0,\n",
       " 0,\n",
       " 0,\n",
       " 0,\n",
       " 0,\n",
       " 0,\n",
       " 0,\n",
       " 0,\n",
       " 0,\n",
       " 0,\n",
       " 0,\n",
       " 0,\n",
       " 0,\n",
       " 0,\n",
       " 0,\n",
       " 0,\n",
       " 0,\n",
       " 0,\n",
       " 0,\n",
       " 0,\n",
       " 0,\n",
       " 0,\n",
       " 0,\n",
       " 0,\n",
       " 0,\n",
       " 0,\n",
       " 0,\n",
       " 0,\n",
       " 0]"
      ]
     },
     "execution_count": 26,
     "metadata": {},
     "output_type": "execute_result"
    }
   ],
   "source": [
    "q = [0]*(D-3)\n",
    "q"
   ]
  },
  {
   "cell_type": "code",
   "execution_count": 28,
   "metadata": {},
   "outputs": [
    {
     "name": "stdout",
     "output_type": "stream",
     "text": [
      "47\n"
     ]
    }
   ],
   "source": [
    "print(len(q))"
   ]
  },
  {
   "cell_type": "code",
   "execution_count": 22,
   "metadata": {},
   "outputs": [
    {
     "name": "stdout",
     "output_type": "stream",
     "text": [
      "[ 1.   0.5 -0.5  0.   0.   0.   0.   0.   0.   0.   0.   0.   0.   0.\n",
      "  0.   0.   0.   0.   0.   0.   0.   0.   0.   0.   0.   0.   0.   0.\n",
      "  0.   0.   0.   0.   0.   0.   0.   0.   0.   0.   0.   0.   0.   0.\n",
      "  0.   0.   0.   0.   0.   0.   0.   0. ]\n"
     ]
    }
   ],
   "source": [
    "print(w1)"
   ]
  },
  {
   "cell_type": "code",
   "execution_count": 30,
   "metadata": {},
   "outputs": [
    {
     "name": "stdout",
     "output_type": "stream",
     "text": [
      "[-0.70755097  2.07667279  0.87760569 -1.77598634 -5.0650861   3.96171163\n",
      "  1.07531134 -6.40735444  2.58303182  8.69469328 -1.35016462  0.26599454\n",
      "  0.69217374  5.30337653  1.41164307  0.19248586 -6.99676351 -4.18716857\n",
      "  1.38950716  5.51264024 -1.62689359 -4.91007569 -1.76063218 -5.46046898\n",
      " -6.91469653 -3.10005401 -3.40717644  2.55406552 -0.21569351  1.30453709\n",
      " -8.89216634 -3.93729086  1.20104014 -2.74106483 -0.15534081 -0.51122986\n",
      "  6.59045759  0.5685827  -2.93922086 -5.74809933 -0.44698501  1.05318734\n",
      "  2.47965211  3.44736734  2.44788779  3.01263033 -2.4173541   4.70651256\n",
      "  0.99082943  4.40730645]\n"
     ]
    }
   ],
   "source": [
    "Y = np.dot(X,w1)+ np.random.randn(N)*0.5\n",
    "print(Y)"
   ]
  },
  {
   "cell_type": "code",
   "execution_count": 31,
   "metadata": {},
   "outputs": [
    {
     "data": {
      "text/plain": [
       "array([-0.17996636,  1.73927409,  0.08781149, -1.78204563, -5.18689916,\n",
       "        4.44911117,  1.09729207, -6.59807947,  2.18878943,  8.74346393,\n",
       "       -1.12669078, -0.32776718,  0.55542907,  4.71059627,  1.53865929,\n",
       "        1.58973642, -6.99967476, -3.80166048,  1.26748528,  5.29607915,\n",
       "       -1.18793259, -5.05716688, -1.52544892, -5.34094025, -6.71088502,\n",
       "       -2.30822391, -2.60046627,  2.1012679 , -0.99542388,  1.01592772,\n",
       "       -8.30081853, -4.31402843,  1.18923912, -2.74762457,  0.20531119,\n",
       "       -1.12856811,  5.79717146,  0.69079198, -3.47719009, -4.41789205,\n",
       "       -0.10869842,  0.84797471,  3.18108477,  4.14861419,  2.05322376,\n",
       "        2.2979348 , -1.84927485,  4.17186702,  0.03273751,  3.58191573])"
      ]
     },
     "execution_count": 31,
     "metadata": {},
     "output_type": "execute_result"
    }
   ],
   "source": [
    "np.dot(X,w1)"
   ]
  },
  {
   "cell_type": "code",
   "execution_count": 32,
   "metadata": {},
   "outputs": [
    {
     "data": {
      "text/plain": [
       "array([-0.7166138 , -1.17391909, -0.48665597, -0.53821792,  0.05540481,\n",
       "        0.8553268 , -0.05888787,  0.75395227, -0.65517274, -0.49448417,\n",
       "       -0.21197648, -0.4695554 , -0.33327416, -0.20424078, -0.66827944,\n",
       "        0.80135416, -0.8637843 ,  0.30940579, -0.36315843, -0.13657614,\n",
       "       -0.02546901, -0.55185755,  0.15599924,  0.24750448,  0.61324272,\n",
       "        0.37412947,  0.07231602,  0.05449503,  0.11191291,  0.7327688 ,\n",
       "        0.17757743, -0.0271991 , -0.67816393,  0.56646602,  0.34793483,\n",
       "       -0.44088885, -0.98463028,  0.32787364, -0.16156808,  0.20547449,\n",
       "       -0.62824193,  1.00279213, -0.55277697, -0.28843034, -0.13805724,\n",
       "        0.47113298,  0.05475071,  0.11082429,  0.15995927,  0.1377138 ])"
      ]
     },
     "execution_count": 32,
     "metadata": {},
     "output_type": "execute_result"
    }
   ],
   "source": [
    "np.random.randn(N)*0.5"
   ]
  },
  {
   "cell_type": "code",
   "execution_count": 33,
   "metadata": {},
   "outputs": [],
   "source": [
    "cost = []"
   ]
  },
  {
   "cell_type": "code",
   "execution_count": 34,
   "metadata": {},
   "outputs": [],
   "source": [
    "learning_rate = 0.001"
   ]
  },
  {
   "cell_type": "code",
   "execution_count": 35,
   "metadata": {},
   "outputs": [],
   "source": [
    "w = np.random.randn(D)/np.sqrt(D)\n"
   ]
  },
  {
   "cell_type": "code",
   "execution_count": 36,
   "metadata": {},
   "outputs": [
    {
     "data": {
      "text/plain": [
       "array([ 0.11575762,  0.149337  ,  0.18457165,  0.00610454, -0.15989505,\n",
       "       -0.09612051, -0.18778842,  0.19642446,  0.06411685,  0.10196358,\n",
       "       -0.02867769, -0.30763354,  0.00941653,  0.2720192 ,  0.06185841,\n",
       "       -0.09836703,  0.27423368,  0.28482273,  0.12707561, -0.14482597,\n",
       "       -0.11513941,  0.0785127 ,  0.00642989, -0.03259705, -0.24633281,\n",
       "        0.02271466,  0.08775894, -0.23305259,  0.0713519 ,  0.07268111,\n",
       "       -0.02272393,  0.10901478,  0.10559799,  0.12266726, -0.25050401,\n",
       "        0.19020763, -0.40962268, -0.09913484, -0.08319703, -0.09746523,\n",
       "       -0.00510508,  0.10186793, -0.08945362, -0.12470886, -0.00124433,\n",
       "        0.01009812,  0.0698714 ,  0.06019352, -0.00885206, -0.03404532])"
      ]
     },
     "execution_count": 36,
     "metadata": {},
     "output_type": "execute_result"
    }
   ],
   "source": [
    "w"
   ]
  },
  {
   "cell_type": "code",
   "execution_count": 37,
   "metadata": {},
   "outputs": [
    {
     "data": {
      "text/plain": [
       "7.0710678118654755"
      ]
     },
     "execution_count": 37,
     "metadata": {},
     "output_type": "execute_result"
    }
   ],
   "source": [
    "np.sqrt(D)"
   ]
  },
  {
   "cell_type": "code",
   "execution_count": 38,
   "metadata": {},
   "outputs": [],
   "source": [
    "l1 = 10.0"
   ]
  },
  {
   "cell_type": "code",
   "execution_count": 39,
   "metadata": {},
   "outputs": [],
   "source": [
    "for i in range(500):\n",
    "    Ypred = X.dot(w)\n",
    "    delta = Ypred -Y\n",
    "    w = w -learning_rate*(np.dot(X.T,delta)+l1*np.sign(w))\n",
    "    mse = np.dot(delta,delta)/N\n",
    "    cost.append(mse)"
   ]
  },
  {
   "cell_type": "code",
   "execution_count": 40,
   "metadata": {},
   "outputs": [
    {
     "data": {
      "text/plain": [
       "array([-0.12320912,  2.85793084,  1.09327547, -2.11466196, -5.41500856,\n",
       "        4.57472996,  2.05669731, -7.76471933,  2.551741  ,  8.14813527,\n",
       "       -1.72487766, -0.55343726,  1.80956832,  4.58245963,  2.07405596,\n",
       "        1.27267523, -6.17021187, -4.05399855,  1.8698551 ,  6.66928027,\n",
       "       -0.91142305, -5.32100858, -1.91544093, -6.64890965, -6.04515293,\n",
       "       -2.80421789, -2.27465743,  1.62546055,  0.30560352,  1.76132593,\n",
       "       -8.38293493, -4.18849793,  1.46515774, -2.98071441,  0.75460605,\n",
       "       -0.80503489,  5.31533682,  0.12841884, -4.29217684, -4.62704832,\n",
       "        0.31139474,  0.5473799 ,  4.54812002,  3.66802413,  2.44609294,\n",
       "        2.21751572, -1.44030943,  5.14638534,  1.43837861,  4.33000956])"
      ]
     },
     "execution_count": 40,
     "metadata": {},
     "output_type": "execute_result"
    }
   ],
   "source": [
    "Ypred"
   ]
  },
  {
   "cell_type": "code",
   "execution_count": 41,
   "metadata": {},
   "outputs": [
    {
     "data": {
      "text/plain": [
       "array([ 5.84341844e-01,  7.81258046e-01,  2.15669773e-01, -3.38675626e-01,\n",
       "       -3.49922461e-01,  6.13018333e-01,  9.81385971e-01, -1.35736490e+00,\n",
       "       -3.12908237e-02, -5.46558014e-01, -3.74713033e-01, -8.19431806e-01,\n",
       "        1.11739458e+00, -7.20916903e-01,  6.62412895e-01,  1.08018937e+00,\n",
       "        8.26551642e-01,  1.33170021e-01,  4.80347949e-01,  1.15664003e+00,\n",
       "        7.15470544e-01, -4.10932897e-01, -1.54808751e-01, -1.18844068e+00,\n",
       "        8.69543598e-01,  2.95836119e-01,  1.13251901e+00, -9.28604973e-01,\n",
       "        5.21297031e-01,  4.56788843e-01,  5.09231410e-01, -2.51207068e-01,\n",
       "        2.64117601e-01, -2.39649577e-01,  9.09946859e-01, -2.93805035e-01,\n",
       "       -1.27512077e+00, -4.40163857e-01, -1.35295598e+00,  1.12105101e+00,\n",
       "        7.58379752e-01, -5.05807448e-01,  2.06846791e+00,  2.20656787e-01,\n",
       "       -1.79485488e-03, -7.95114616e-01,  9.77044672e-01,  4.39872781e-01,\n",
       "        4.47549182e-01, -7.72968884e-02])"
      ]
     },
     "execution_count": 41,
     "metadata": {},
     "output_type": "execute_result"
    }
   ],
   "source": [
    "delta"
   ]
  },
  {
   "cell_type": "code",
   "execution_count": 44,
   "metadata": {},
   "outputs": [
    {
     "data": {
      "text/plain": [
       "array([ 9.91368851e-01,  4.89201078e-01, -4.79139825e-01, -1.63079131e-02,\n",
       "        3.02625611e-02, -2.70242884e-02,  1.83569641e-02, -3.41059123e-03,\n",
       "        1.34387708e-02,  5.98899763e-03, -6.09974717e-03, -3.27182003e-02,\n",
       "       -6.42102131e-04,  8.31810495e-03, -1.27004424e-02,  1.31533064e-03,\n",
       "       -2.63055957e-02, -4.45416221e-03, -6.31221843e-03,  2.39269944e-02,\n",
       "        2.96106851e-02,  9.41795907e-03, -2.18483407e-04, -3.36292626e-02,\n",
       "       -2.27433316e-02,  4.83702593e-03, -4.09737973e-03,  1.23285994e-02,\n",
       "        4.86357034e-02, -4.00091706e-02, -2.60536561e-02, -4.65364020e-03,\n",
       "        7.46727075e-03, -1.09514341e-02,  1.20688364e-02,  5.22335879e-03,\n",
       "        2.62952390e-02,  9.48750486e-03,  4.30947458e-02,  4.81072023e-03,\n",
       "        4.84956649e-03,  1.55565520e-03,  2.47013087e-02,  2.37864358e-02,\n",
       "       -4.40803805e-02,  2.50472127e-02,  7.82159568e-03, -3.11249660e-02,\n",
       "        9.49230725e-03, -6.05953503e-03])"
      ]
     },
     "execution_count": 44,
     "metadata": {},
     "output_type": "execute_result"
    }
   ],
   "source": [
    "w"
   ]
  },
  {
   "cell_type": "code",
   "execution_count": 45,
   "metadata": {},
   "outputs": [
    {
     "data": {
      "text/plain": [
       "0.6034702817555404"
      ]
     },
     "execution_count": 45,
     "metadata": {},
     "output_type": "execute_result"
    }
   ],
   "source": [
    "mse"
   ]
  },
  {
   "cell_type": "code",
   "execution_count": 46,
   "metadata": {},
   "outputs": [
    {
     "data": {
      "text/plain": [
       "[20.075253316637642,\n",
       " 4.156186775267073,\n",
       " 1.9805411277738156,\n",
       " 1.2050908036881498,\n",
       " 0.8327988982089723,\n",
       " 0.6244856427630743,\n",
       " 0.50600354941544,\n",
       " 0.44407840008250304,\n",
       " 0.38669992118180135,\n",
       " 0.34584864130898024,\n",
       " 0.32583040250853346,\n",
       " 0.3025000847661945,\n",
       " 0.29489261638493314,\n",
       " 0.2714894965595629,\n",
       " 0.25631762899749205,\n",
       " 0.25723051060211816,\n",
       " 0.2656962046599438,\n",
       " 0.27031136260336913,\n",
       " 0.273895583983161,\n",
       " 0.28223693546975226,\n",
       " 0.3205733984162053,\n",
       " 0.32298306971327256,\n",
       " 0.3523678667107532,\n",
       " 0.3540993368962974,\n",
       " 0.3597491063034909,\n",
       " 0.374864861088649,\n",
       " 0.3900563392683527,\n",
       " 0.38050189042850485,\n",
       " 0.39487272114629063,\n",
       " 0.40177022834866316,\n",
       " 0.37976981177481944,\n",
       " 0.3764404491136342,\n",
       " 0.41010611095384897,\n",
       " 0.37204748182387193,\n",
       " 0.40386454462650706,\n",
       " 0.4017405195348733,\n",
       " 0.3869866596034933,\n",
       " 0.3818932773936033,\n",
       " 0.39810474979813504,\n",
       " 0.40611407170330055,\n",
       " 0.4205601368759093,\n",
       " 0.40000840081359507,\n",
       " 0.4366869598786792,\n",
       " 0.470854243532806,\n",
       " 0.4499456546506568,\n",
       " 0.42883171338024995,\n",
       " 0.4164478272574448,\n",
       " 0.4163488724732139,\n",
       " 0.4642645582582691,\n",
       " 0.45729949318885493,\n",
       " 0.4733937276346778,\n",
       " 0.4847173843799816,\n",
       " 0.4471068532455028,\n",
       " 0.41938423247718615,\n",
       " 0.4159815573705895,\n",
       " 0.437497512870002,\n",
       " 0.4465223677327313,\n",
       " 0.43978503964236737,\n",
       " 0.4636243786720925,\n",
       " 0.4824420834120005,\n",
       " 0.47164801438080134,\n",
       " 0.49173769623725916,\n",
       " 0.5056211889666306,\n",
       " 0.4885075241198684,\n",
       " 0.4916801651086201,\n",
       " 0.5123214996546992,\n",
       " 0.49525671657216674,\n",
       " 0.49401467242716224,\n",
       " 0.5216652686039042,\n",
       " 0.5666745420558509,\n",
       " 0.5600912752603902,\n",
       " 0.545439956284791,\n",
       " 0.5383732956099441,\n",
       " 0.5620198352586013,\n",
       " 0.520956882054536,\n",
       " 0.5887228693176195,\n",
       " 0.5934748500715773,\n",
       " 0.6023007984841571,\n",
       " 0.5958256425473916,\n",
       " 0.6254568916014286,\n",
       " 0.6160100434709669,\n",
       " 0.6145253975896763,\n",
       " 0.5227992577141988,\n",
       " 0.5579891799116552,\n",
       " 0.5666329610501595,\n",
       " 0.6115906877138697,\n",
       " 0.5361240389932338,\n",
       " 0.5446894513638324,\n",
       " 0.5364893821028839,\n",
       " 0.5745694441531274,\n",
       " 0.5406286406468045,\n",
       " 0.5912893536596119,\n",
       " 0.6148146923403721,\n",
       " 0.6172348632463396,\n",
       " 0.566393929772801,\n",
       " 0.6148863953454454,\n",
       " 0.5599889639585274,\n",
       " 0.5922194096671235,\n",
       " 0.5309512507914066,\n",
       " 0.5838881388748876,\n",
       " 0.5648828539939208,\n",
       " 0.5906652288426342,\n",
       " 0.5378582441498643,\n",
       " 0.5611249988466851,\n",
       " 0.5364747065404586,\n",
       " 0.56899210905353,\n",
       " 0.5299245503663768,\n",
       " 0.5631678725970205,\n",
       " 0.5531305635442562,\n",
       " 0.5732785964000859,\n",
       " 0.5656455088699596,\n",
       " 0.6092033327802785,\n",
       " 0.6064722313415892,\n",
       " 0.6047560413255928,\n",
       " 0.5394165290842245,\n",
       " 0.5713008643193064,\n",
       " 0.5642421718706637,\n",
       " 0.5999425549109711,\n",
       " 0.536260425546879,\n",
       " 0.5806872767694363,\n",
       " 0.5540129117626981,\n",
       " 0.5960520057573057,\n",
       " 0.5312541822206894,\n",
       " 0.5665611076505769,\n",
       " 0.5522986309725839,\n",
       " 0.5555651196375154,\n",
       " 0.5262944875925867,\n",
       " 0.59718627325567,\n",
       " 0.543924802280083,\n",
       " 0.5583475346507614,\n",
       " 0.5486652012804992,\n",
       " 0.5980294967188413,\n",
       " 0.5259059896976477,\n",
       " 0.5607574958549749,\n",
       " 0.5322607123833224,\n",
       " 0.538080513099531,\n",
       " 0.5484418713600386,\n",
       " 0.5776167754775485,\n",
       " 0.5274672043050519,\n",
       " 0.5891065220309273,\n",
       " 0.5633650839363409,\n",
       " 0.5700636810571829,\n",
       " 0.5440893947302076,\n",
       " 0.5433254179753807,\n",
       " 0.5137118554289887,\n",
       " 0.5866364424760185,\n",
       " 0.550722575302817,\n",
       " 0.5663094952583546,\n",
       " 0.56881353472706,\n",
       " 0.5822025899015955,\n",
       " 0.5771704245604969,\n",
       " 0.6346308954428602,\n",
       " 0.5815265864284096,\n",
       " 0.58588388039756,\n",
       " 0.5719998186205014,\n",
       " 0.586263479692616,\n",
       " 0.577071279450417,\n",
       " 0.5947400784626788,\n",
       " 0.5303306977208244,\n",
       " 0.5619915629789302,\n",
       " 0.5598114236179353,\n",
       " 0.6072709295400456,\n",
       " 0.5953049785088343,\n",
       " 0.5743128118724976,\n",
       " 0.5175061644636072,\n",
       " 0.5588313068082329,\n",
       " 0.5179552137192023,\n",
       " 0.5795896394745061,\n",
       " 0.5639196708202858,\n",
       " 0.5845968580606082,\n",
       " 0.5586176956786193,\n",
       " 0.5573565818191204,\n",
       " 0.5436227086646295,\n",
       " 0.586809711250992,\n",
       " 0.5205694545057127,\n",
       " 0.5616968795766629,\n",
       " 0.561342862463087,\n",
       " 0.5610910471256935,\n",
       " 0.5584469354800349,\n",
       " 0.5880888872384722,\n",
       " 0.5665339746585993,\n",
       " 0.5972161765810979,\n",
       " 0.5538271660515806,\n",
       " 0.5796109825913103,\n",
       " 0.5619860858347232,\n",
       " 0.6182497170574139,\n",
       " 0.5456783458464392,\n",
       " 0.5507837724694188,\n",
       " 0.539639263386039,\n",
       " 0.5667297184215243,\n",
       " 0.5551090751311999,\n",
       " 0.6036632403493576,\n",
       " 0.5985428871077907,\n",
       " 0.5968831816578247,\n",
       " 0.55464653319304,\n",
       " 0.5775599401334628,\n",
       " 0.5387867517956607,\n",
       " 0.6095306919169103,\n",
       " 0.568202578330371,\n",
       " 0.570045467055133,\n",
       " 0.5698625809408211,\n",
       " 0.5958342732718152,\n",
       " 0.5588734740588851,\n",
       " 0.6070042348332025,\n",
       " 0.5934570475916766,\n",
       " 0.5999774396088098,\n",
       " 0.5767353727905019,\n",
       " 0.6120147778195545,\n",
       " 0.531121058386566,\n",
       " 0.5658603774430815,\n",
       " 0.5347622650900999,\n",
       " 0.578739248285824,\n",
       " 0.5807836122189944,\n",
       " 0.6008052270543417,\n",
       " 0.5123003009473538,\n",
       " 0.5471945974547611,\n",
       " 0.5333070751821788,\n",
       " 0.5923718654908223,\n",
       " 0.5579144804269148,\n",
       " 0.5812208169697779,\n",
       " 0.5344020527925987,\n",
       " 0.5634386287824101,\n",
       " 0.5592029556537953,\n",
       " 0.5898172330590014,\n",
       " 0.5596522050269911,\n",
       " 0.5806038912179686,\n",
       " 0.5113715480583061,\n",
       " 0.5440106850695294,\n",
       " 0.5165842826235562,\n",
       " 0.5720980468122272,\n",
       " 0.5266762857649532,\n",
       " 0.5702138079525436,\n",
       " 0.5792095680821793,\n",
       " 0.620203942608288,\n",
       " 0.5722724149645453,\n",
       " 0.5938402406168279,\n",
       " 0.5716651035007929,\n",
       " 0.5782487185089673,\n",
       " 0.5236141554339204,\n",
       " 0.5907502258386844,\n",
       " 0.5827402889362546,\n",
       " 0.5807393433172641,\n",
       " 0.5582679034115029,\n",
       " 0.6035487989122725,\n",
       " 0.5798399941833562,\n",
       " 0.5908918736010753,\n",
       " 0.5638516678765803,\n",
       " 0.5654636537318831,\n",
       " 0.554812035785739,\n",
       " 0.6113150244064559,\n",
       " 0.507948691593544,\n",
       " 0.5425131296053215,\n",
       " 0.5513071573303192,\n",
       " 0.5654877188741575,\n",
       " 0.5543072095265837,\n",
       " 0.5744674826858887,\n",
       " 0.5400497825546562,\n",
       " 0.5862804104688988,\n",
       " 0.5403156622626695,\n",
       " 0.5569448718363074,\n",
       " 0.5612277153885786,\n",
       " 0.6086859433949965,\n",
       " 0.5611926983755944,\n",
       " 0.5848562977801381,\n",
       " 0.5846114140907972,\n",
       " 0.5826179408752905,\n",
       " 0.5392742188163958,\n",
       " 0.6047610951294976,\n",
       " 0.5470119340341292,\n",
       " 0.5640993015326743,\n",
       " 0.5439498671528016,\n",
       " 0.5633408157564262,\n",
       " 0.5421433779331829,\n",
       " 0.5862053230481912,\n",
       " 0.5319541399104941,\n",
       " 0.5719976964817082,\n",
       " 0.5769229212544938,\n",
       " 0.5776865731429761,\n",
       " 0.5513480768806847,\n",
       " 0.5935131586633577,\n",
       " 0.5425131151828326,\n",
       " 0.5751297859114908,\n",
       " 0.5422472234029104,\n",
       " 0.5899990057118678,\n",
       " 0.5463819033156357,\n",
       " 0.57717252437102,\n",
       " 0.5386277603021111,\n",
       " 0.5500008498883744,\n",
       " 0.5334831721237375,\n",
       " 0.5935489600784685,\n",
       " 0.6176342901027781,\n",
       " 0.6217376365295472,\n",
       " 0.5678702825411652,\n",
       " 0.5746270514335374,\n",
       " 0.5444492816539495,\n",
       " 0.5876073926005635,\n",
       " 0.5550484507269566,\n",
       " 0.5822864290454993,\n",
       " 0.549038070059727,\n",
       " 0.5679493684411344,\n",
       " 0.5211751056139469,\n",
       " 0.5767844394339234,\n",
       " 0.5632627264573955,\n",
       " 0.579007790259996,\n",
       " 0.5758622962875485,\n",
       " 0.5899274135371665,\n",
       " 0.526815748881562,\n",
       " 0.5631124657752438,\n",
       " 0.5590198516146407,\n",
       " 0.573809500838983,\n",
       " 0.5699898273043156,\n",
       " 0.5753944139510753,\n",
       " 0.5337864292221172,\n",
       " 0.5809026391600993,\n",
       " 0.5772739292619116,\n",
       " 0.5830970920138385,\n",
       " 0.5221928073041273,\n",
       " 0.5751596539880816,\n",
       " 0.5240133315911164,\n",
       " 0.562609858439809,\n",
       " 0.5551138091644163,\n",
       " 0.5675792355216138,\n",
       " 0.5327167098797524,\n",
       " 0.5747495397856237,\n",
       " 0.5350905020608137,\n",
       " 0.5674634371040852,\n",
       " 0.5658552214552093,\n",
       " 0.5738834833753585,\n",
       " 0.5156357364320712,\n",
       " 0.5731634761929244,\n",
       " 0.5590551357429441,\n",
       " 0.5641361889638523,\n",
       " 0.5568149315442179,\n",
       " 0.5908316334843933,\n",
       " 0.5590922767055898,\n",
       " 0.5942502037407271,\n",
       " 0.5830598059511722,\n",
       " 0.5831845338096368,\n",
       " 0.5376279866792576,\n",
       " 0.5604324773162754,\n",
       " 0.5353348003804277,\n",
       " 0.5814104112687036,\n",
       " 0.57683945557431,\n",
       " 0.582585346848738,\n",
       " 0.4959211295436631,\n",
       " 0.5421662306034442,\n",
       " 0.5465522826213192,\n",
       " 0.5855566578286124,\n",
       " 0.5632373082359323,\n",
       " 0.5748838313622737,\n",
       " 0.5678457040293072,\n",
       " 0.5736724110187142,\n",
       " 0.5488989243638485,\n",
       " 0.6068349646782459,\n",
       " 0.5471898796903482,\n",
       " 0.5768736323529053,\n",
       " 0.5495833687907283,\n",
       " 0.5950057216667192,\n",
       " 0.5815038914725402,\n",
       " 0.5998097991837341,\n",
       " 0.5358630857812487,\n",
       " 0.5564884202731093,\n",
       " 0.5621747873191478,\n",
       " 0.6128292149756356,\n",
       " 0.532596278589599,\n",
       " 0.5683688811318649,\n",
       " 0.5544125592626327,\n",
       " 0.6179379919858797,\n",
       " 0.5866579793672014,\n",
       " 0.580666905180562,\n",
       " 0.5624094523541538,\n",
       " 0.622594263180293,\n",
       " 0.5263865113727388,\n",
       " 0.5437020363680711,\n",
       " 0.5527588819474414,\n",
       " 0.5620105708591887,\n",
       " 0.5616910054594875,\n",
       " 0.6148654829535356,\n",
       " 0.576970059293534,\n",
       " 0.597056219488242,\n",
       " 0.5498683490091402,\n",
       " 0.5982851633988087,\n",
       " 0.5729387623548076,\n",
       " 0.5953988530719941,\n",
       " 0.509684249577269,\n",
       " 0.5288883413587848,\n",
       " 0.5459257419466287,\n",
       " 0.59646127935748,\n",
       " 0.5593860870725474,\n",
       " 0.5846516662590662,\n",
       " 0.59297353428952,\n",
       " 0.6132885358182861,\n",
       " 0.5593643659063299,\n",
       " 0.5921083937286806,\n",
       " 0.5786875977320559,\n",
       " 0.6004354285017997,\n",
       " 0.5255176728121213,\n",
       " 0.5510408715331625,\n",
       " 0.5574645586963003,\n",
       " 0.5907360465699734,\n",
       " 0.5417300082280768,\n",
       " 0.5677030545114359,\n",
       " 0.549115868662152,\n",
       " 0.5789054248949548,\n",
       " 0.5623740837219438,\n",
       " 0.59908203678565,\n",
       " 0.5933296131684256,\n",
       " 0.5931691009754642,\n",
       " 0.5437352244395943,\n",
       " 0.5622027297973079,\n",
       " 0.5240128076891023,\n",
       " 0.5853639772695152,\n",
       " 0.5283824851907543,\n",
       " 0.5705098562521712,\n",
       " 0.5365673454139634,\n",
       " 0.5571809149711604,\n",
       " 0.549810549487575,\n",
       " 0.6020200110254668,\n",
       " 0.5852949979023446,\n",
       " 0.5734475816774406,\n",
       " 0.5127162860703283,\n",
       " 0.5512446233469889,\n",
       " 0.5508363644572403,\n",
       " 0.5932813168114214,\n",
       " 0.572388186221064,\n",
       " 0.5844782061338867,\n",
       " 0.5331615128700498,\n",
       " 0.5812101851753444,\n",
       " 0.5478004975127471,\n",
       " 0.5668082808946552,\n",
       " 0.5447853993864658,\n",
       " 0.5655284367762037,\n",
       " 0.5812569668365276,\n",
       " 0.6193675090613617,\n",
       " 0.5679250990863863,\n",
       " 0.6039709529549395,\n",
       " 0.5699485971930139,\n",
       " 0.6004017546722129,\n",
       " 0.586480709914622,\n",
       " 0.6036696830100299,\n",
       " 0.5535742319873045,\n",
       " 0.5622606902947976,\n",
       " 0.5328830030779106,\n",
       " 0.5807788708644928,\n",
       " 0.5568063800900357,\n",
       " 0.5807691643048507,\n",
       " 0.516607089375301,\n",
       " 0.5600571550164921,\n",
       " 0.5447558240258936,\n",
       " 0.5912310682554217,\n",
       " 0.5823734696436584,\n",
       " 0.6026172769367707,\n",
       " 0.5941860888597714,\n",
       " 0.6110345813873144,\n",
       " 0.5550587014600075,\n",
       " 0.5658513737147972,\n",
       " 0.5246063461542504,\n",
       " 0.5623679037560381,\n",
       " 0.533732185804641,\n",
       " 0.5425955600864929,\n",
       " 0.5181106448900299,\n",
       " 0.576000187014308,\n",
       " 0.5594301465744445,\n",
       " 0.5725519812543907,\n",
       " 0.5808664116466573,\n",
       " 0.6258331308159909,\n",
       " 0.5927403413124561,\n",
       " 0.590027629717365,\n",
       " 0.5709566057252864,\n",
       " 0.5947760596301949,\n",
       " 0.5511266333771208,\n",
       " 0.59824395654457,\n",
       " 0.5587667437708863,\n",
       " 0.5870143487033118,\n",
       " 0.5219443627163798,\n",
       " 0.5466665178593231,\n",
       " 0.5519902356340723,\n",
       " 0.6005354404728328,\n",
       " 0.5814005305603063,\n",
       " 0.5835874286421515,\n",
       " 0.5325516276368454,\n",
       " 0.5840078585781087,\n",
       " 0.5387783250569101,\n",
       " 0.5691960556260114,\n",
       " 0.5953084716862069,\n",
       " 0.6054802083131795,\n",
       " 0.5555933256902409,\n",
       " 0.5968780001234899,\n",
       " 0.5437395335647015,\n",
       " 0.5590495403727739,\n",
       " 0.5535823615938567,\n",
       " 0.585374397054833,\n",
       " 0.5340788912158775,\n",
       " 0.5855236121993598,\n",
       " 0.5355640256793309,\n",
       " 0.5530149774458744,\n",
       " 0.5276051107022949,\n",
       " 0.5613122509471716,\n",
       " 0.5533675241486603,\n",
       " 0.6034702817555404]"
      ]
     },
     "execution_count": 46,
     "metadata": {},
     "output_type": "execute_result"
    }
   ],
   "source": [
    "cost"
   ]
  },
  {
   "cell_type": "code",
   "execution_count": 48,
   "metadata": {},
   "outputs": [
    {
     "data": {
      "image/png": "[encoded data removed]",
      "text/plain": [
       "<Figure size 432x288 with 1 Axes>"
      ]
     },
     "metadata": {
      "needs_background": "light"
     },
     "output_type": "display_data"
    }
   ],
   "source": [
    "plt.plot(cost)\n",
    "plt.show()"
   ]
  },
  {
   "cell_type": "code",
   "execution_count": 49,
   "metadata": {},
   "outputs": [
    {
     "data": {
      "image/png": "[encoded data removed]",
      "text/plain": [
       "<Figure size 432x288 with 1 Axes>"
      ]
     },
     "metadata": {
      "needs_background": "light"
     },
     "output_type": "display_data"
    }
   ],
   "source": [
    "plt.plot(w1,label='true')\n",
    "plt.plot(w,label = 'pred')\n",
    "plt.legend()\n",
    "plt.show()"
   ]
  },
  {
   "cell_type": "code",
   "execution_count": null,
   "metadata": {},
   "outputs": [],
   "source": []
  }
 ],
 "metadata": {
  "kernelspec": {
   "display_name": "Python 3",
   "language": "python",
   "name": "python3"
  },
  "language_info": {
   "codemirror_mode": {
    "name": "ipython",
    "version": 3
   },
   "file_extension": ".py",
   "mimetype": "text/x-python",
   "name": "python",
   "nbconvert_exporter": "python",
   "pygments_lexer": "ipython3",
   "version": "3.7.6"
  }
 },
 "nbformat": 4,
 "nbformat_minor": 4
}
