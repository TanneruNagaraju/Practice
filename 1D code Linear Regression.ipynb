{
 "cells": [
  {
   "cell_type": "code",
   "execution_count": 3,
   "metadata": {},
   "outputs": [],
   "source": [
    "#Linear regression\n"
   ]
  },
  {
   "cell_type": "code",
   "execution_count": 4,
   "metadata": {},
   "outputs": [],
   "source": [
    "import numpy as np\n",
    "import pandas as pd\n",
    "import matplotlib.pyplot as plt\n"
   ]
  },
  {
   "cell_type": "code",
   "execution_count": 16,
   "metadata": {},
   "outputs": [],
   "source": [
    "data = ['n','m']\n",
    "df = pd.read_csv(\"C:/Users/TANNERU/Downloads/Dataset for coding/data_1d.csv\",names = data)"
   ]
  },
  {
   "cell_type": "code",
   "execution_count": 17,
   "metadata": {},
   "outputs": [
    {
     "data": {
      "text/html": [
       "<div>\n",
       "<style scoped>\n",
       "    .dataframe tbody tr th:only-of-type {\n",
       "        vertical-align: middle;\n",
       "    }\n",
       "\n",
       "    .dataframe tbody tr th {\n",
       "        vertical-align: top;\n",
       "    }\n",
       "\n",
       "    .dataframe thead th {\n",
       "        text-align: right;\n",
       "    }\n",
       "</style>\n",
       "<table border=\"1\" class=\"dataframe\">\n",
       "  <thead>\n",
       "    <tr style=\"text-align: right;\">\n",
       "      <th></th>\n",
       "      <th>n</th>\n",
       "      <th>m</th>\n",
       "    </tr>\n",
       "  </thead>\n",
       "  <tbody>\n",
       "    <tr>\n",
       "      <th>0</th>\n",
       "      <td>95.724162</td>\n",
       "      <td>197.179636</td>\n",
       "    </tr>\n",
       "    <tr>\n",
       "      <th>1</th>\n",
       "      <td>35.757619</td>\n",
       "      <td>67.590670</td>\n",
       "    </tr>\n",
       "    <tr>\n",
       "      <th>2</th>\n",
       "      <td>28.816847</td>\n",
       "      <td>60.854133</td>\n",
       "    </tr>\n",
       "    <tr>\n",
       "      <th>3</th>\n",
       "      <td>99.958481</td>\n",
       "      <td>196.907397</td>\n",
       "    </tr>\n",
       "    <tr>\n",
       "      <th>4</th>\n",
       "      <td>66.809748</td>\n",
       "      <td>125.311129</td>\n",
       "    </tr>\n",
       "    <tr>\n",
       "      <th>...</th>\n",
       "      <td>...</td>\n",
       "      <td>...</td>\n",
       "    </tr>\n",
       "    <tr>\n",
       "      <th>95</th>\n",
       "      <td>79.059832</td>\n",
       "      <td>163.096903</td>\n",
       "    </tr>\n",
       "    <tr>\n",
       "      <th>96</th>\n",
       "      <td>72.197693</td>\n",
       "      <td>142.898523</td>\n",
       "    </tr>\n",
       "    <tr>\n",
       "      <th>97</th>\n",
       "      <td>71.417753</td>\n",
       "      <td>148.094209</td>\n",
       "    </tr>\n",
       "    <tr>\n",
       "      <th>98</th>\n",
       "      <td>31.008820</td>\n",
       "      <td>63.796876</td>\n",
       "    </tr>\n",
       "    <tr>\n",
       "      <th>99</th>\n",
       "      <td>40.325282</td>\n",
       "      <td>86.723685</td>\n",
       "    </tr>\n",
       "  </tbody>\n",
       "</table>\n",
       "<p>100 rows × 2 columns</p>\n",
       "</div>"
      ],
      "text/plain": [
       "            n           m\n",
       "0   95.724162  197.179636\n",
       "1   35.757619   67.590670\n",
       "2   28.816847   60.854133\n",
       "3   99.958481  196.907397\n",
       "4   66.809748  125.311129\n",
       "..        ...         ...\n",
       "95  79.059832  163.096903\n",
       "96  72.197693  142.898523\n",
       "97  71.417753  148.094209\n",
       "98  31.008820   63.796876\n",
       "99  40.325282   86.723685\n",
       "\n",
       "[100 rows x 2 columns]"
      ]
     },
     "execution_count": 17,
     "metadata": {},
     "output_type": "execute_result"
    }
   ],
   "source": [
    "df"
   ]
  },
  {
   "cell_type": "code",
   "execution_count": 46,
   "metadata": {},
   "outputs": [],
   "source": [
    "X1 = df.n\n",
    "Y1 = df.m"
   ]
  },
  {
   "cell_type": "code",
   "execution_count": 50,
   "metadata": {},
   "outputs": [
    {
     "data": {
      "text/plain": [
       "0     95.724162\n",
       "1     35.757619\n",
       "2     28.816847\n",
       "3     99.958481\n",
       "4     66.809748\n",
       "        ...    \n",
       "95    79.059832\n",
       "96    72.197693\n",
       "97    71.417753\n",
       "98    31.008820\n",
       "99    40.325282\n",
       "Name: n, Length: 100, dtype: float64"
      ]
     },
     "execution_count": 50,
     "metadata": {},
     "output_type": "execute_result"
    }
   ],
   "source": [
    "X1"
   ]
  },
  {
   "cell_type": "code",
   "execution_count": 51,
   "metadata": {},
   "outputs": [
    {
     "data": {
      "text/plain": [
       "0     197.179636\n",
       "1      67.590670\n",
       "2      60.854133\n",
       "3     196.907397\n",
       "4     125.311129\n",
       "         ...    \n",
       "95    163.096903\n",
       "96    142.898523\n",
       "97    148.094209\n",
       "98     63.796876\n",
       "99     86.723685\n",
       "Name: m, Length: 100, dtype: float64"
      ]
     },
     "execution_count": 51,
     "metadata": {},
     "output_type": "execute_result"
    }
   ],
   "source": [
    "Y1"
   ]
  },
  {
   "cell_type": "code",
   "execution_count": 52,
   "metadata": {},
   "outputs": [
    {
     "name": "stdout",
     "output_type": "stream",
     "text": [
      "(100,)\n",
      "(100,)\n"
     ]
    }
   ],
   "source": [
    "print(X1.shape)\n",
    "print(Y1.shape)"
   ]
  },
  {
   "cell_type": "code",
   "execution_count": 53,
   "metadata": {},
   "outputs": [],
   "source": [
    "#ConvertinG to numpy arrays\n",
    "X1 = np.array(X1)\n",
    "Y1 = np.array(Y1)"
   ]
  },
  {
   "cell_type": "code",
   "execution_count": 54,
   "metadata": {},
   "outputs": [
    {
     "name": "stdout",
     "output_type": "stream",
     "text": [
      "float64\n",
      "float64\n"
     ]
    }
   ],
   "source": [
    "print(X1.dtype)\n",
    "print(Y1.dtype)"
   ]
  },
  {
   "cell_type": "code",
   "execution_count": 56,
   "metadata": {},
   "outputs": [
    {
     "data": {
      "image/png": "[encoded data removed]",
      "text/plain": [
       "<Figure size 432x288 with 1 Axes>"
      ]
     },
     "metadata": {
      "needs_background": "light"
     },
     "output_type": "display_data"
    }
   ],
   "source": [
    "import matplotlib.pyplot as plt\n",
    "plt.scatter(X1,Y1)\n",
    "plt.show()"
   ]
  },
  {
   "cell_type": "code",
   "execution_count": 57,
   "metadata": {},
   "outputs": [
    {
     "data": {
      "text/plain": [
       "352941.79405428586"
      ]
     },
     "execution_count": 57,
     "metadata": {},
     "output_type": "execute_result"
    }
   ],
   "source": [
    "X1.dot(X1)"
   ]
  },
  {
   "cell_type": "code",
   "execution_count": 58,
   "metadata": {},
   "outputs": [
    {
     "data": {
      "text/plain": [
       "53.037609423246906"
      ]
     },
     "execution_count": 58,
     "metadata": {},
     "output_type": "execute_result"
    }
   ],
   "source": [
    "X1.mean()"
   ]
  },
  {
   "cell_type": "code",
   "execution_count": 59,
   "metadata": {},
   "outputs": [
    {
     "data": {
      "text/plain": [
       "5303.76094232469"
      ]
     },
     "execution_count": 59,
     "metadata": {},
     "output_type": "execute_result"
    }
   ],
   "source": [
    "X1.sum()"
   ]
  },
  {
   "cell_type": "code",
   "execution_count": 60,
   "metadata": {},
   "outputs": [
    {
     "name": "stdout",
     "output_type": "stream",
     "text": [
      "71642.99272099696\n"
     ]
    }
   ],
   "source": [
    "denom = X1.dot(X1) - X1.mean()*X1.sum()\n",
    "print(denom)"
   ]
  },
  {
   "cell_type": "code",
   "execution_count": 61,
   "metadata": {},
   "outputs": [
    {
     "name": "stdout",
     "output_type": "stream",
     "text": [
      "1.9726121674845944\n"
     ]
    }
   ],
   "source": [
    "a = (X1.dot(Y1) - X1.sum()*Y1.mean())/denom\n",
    "print(a)"
   ]
  },
  {
   "cell_type": "code",
   "execution_count": 62,
   "metadata": {},
   "outputs": [
    {
     "name": "stdout",
     "output_type": "stream",
     "text": [
      "2.8644240756601382\n"
     ]
    }
   ],
   "source": [
    "b = (Y1.mean()*X1.dot(X1)-X1.mean()*X1.dot(Y1))/denom\n",
    "print(b)"
   ]
  },
  {
   "cell_type": "code",
   "execution_count": 63,
   "metadata": {},
   "outputs": [
    {
     "name": "stdout",
     "output_type": "stream",
     "text": [
      "[191.69107156  73.40033825  59.70888793 200.04374055 134.6541465\n",
      " 117.70140772 109.03253413 163.23006493 161.95302519 157.22687651\n",
      "  36.12953718 181.97592734 108.02977779 144.14051872  39.18138143\n",
      " 115.54860556 162.91168877 164.64871484  75.70294737  90.81753142\n",
      "  55.45890889 148.96605693  37.85970159  16.31713371  54.77836881\n",
      " 166.20483683  80.67714285 154.21924834  86.13993556 188.99729889\n",
      "  85.99382217   9.19897215  16.44718721  30.23594106 127.72565267\n",
      " 122.19270381 159.89872354 167.46778996 111.14518947 125.25700848\n",
      " 134.346438   123.82463362  96.20755007 162.94384962 182.41456945\n",
      "  36.09004217 153.78195174 144.62758755  22.29088522  73.46364625\n",
      "  73.65889458 182.03569977  17.18967731  72.61458615 158.85712223\n",
      "  45.38103823 159.64059254  99.06470845 110.95146298 175.47494321\n",
      "  79.69595275  21.39832425  24.80221251  93.87198766 171.91250045\n",
      " 101.71260448  24.7084738   46.71190545 136.12217728  28.0885821\n",
      "  95.50912276  12.42871435  82.82885829  54.80421236  79.56890841\n",
      " 187.97093041 121.38223758 101.71984163  37.81651826 170.68052043\n",
      "  84.37573694  72.79657722 148.87919971 181.42472732  70.99962607\n",
      " 189.39790936 107.32660238 160.88335524 101.1454019  124.73580715\n",
      " 121.78553496 155.38815834  33.72862173 143.98631828 126.05878448\n",
      " 158.81881137 145.28247263 143.74395344  64.03279987  82.41056643]\n"
     ]
    }
   ],
   "source": [
    "ypred = a*X1+b\n",
    "print(ypred)"
   ]
  },
  {
   "cell_type": "code",
   "execution_count": 66,
   "metadata": {},
   "outputs": [
    {
     "name": "stdout",
     "output_type": "stream",
     "text": [
      "        Actual   predicted\n",
      "0   197.179636  191.691072\n",
      "1    67.590670   73.400338\n",
      "2    60.854133   59.708888\n",
      "3   196.907397  200.043741\n",
      "4   125.311129  134.654147\n",
      "..         ...         ...\n",
      "95  163.096903  158.818811\n",
      "96  142.898523  145.282473\n",
      "97  148.094209  143.743953\n",
      "98   63.796876   64.032800\n",
      "99   86.723685   82.410566\n",
      "\n",
      "[100 rows x 2 columns]\n"
     ]
    }
   ],
   "source": [
    "compare = pd.DataFrame({'Actual':Y1,'predicted':ypred})\n",
    "print(compare)"
   ]
  },
  {
   "cell_type": "code",
   "execution_count": 69,
   "metadata": {},
   "outputs": [
    {
     "name": "stdout",
     "output_type": "stream",
     "text": [
      "[ 5.48856453  5.80966871  1.14524489  3.13634357  9.34301798  1.91562313\n",
      "  1.73023858  5.24477924  2.33361146  8.22301097  4.6619463   2.20929232\n",
      "  4.80916763  0.86870037  7.55503659  8.42481135  5.39768523  2.18122783\n",
      "  5.20149179  6.05183883  5.08567305  3.44688622  8.69217302  3.0733474\n",
      "  7.72229769  6.28818726  2.6929387   6.9500652   2.49464016  2.9587738\n",
      "  5.73891198  0.94755538  0.35079779  3.11850108  3.78009286  6.50613925\n",
      "  0.41165696  6.86454422  6.74489631  1.71244756  9.82727038  1.39278081\n",
      "  2.51193431  3.48860586  3.17769683  2.31280843  7.5910134   6.05218655\n",
      "  4.38755694  0.64494546  1.16242838  2.79415272 10.75530494  5.47177064\n",
      "  4.26533247  4.64971567  5.80137365 11.83257952  3.74042213 11.2692631\n",
      "  8.99872977  2.2192942   2.22074741  6.57953844  3.98788633  5.69205603\n",
      "  0.23785084  7.29224042  2.95692285  0.08235888  5.09646671  1.42855825\n",
      "  0.23819535  4.57240845  0.08713598  3.35338742  0.88712214  9.63248125\n",
      "  7.12108823  1.45268264  0.51349906  2.87758598  0.89944662  6.16918242\n",
      "  4.67276712  0.25294525  3.8797665   2.35392517  2.44656227  2.08841209\n",
      "  2.97781137  0.28933478  1.68198652  7.33714043  3.37517431  4.27809124\n",
      "  2.38394999  4.3502551   0.23592362  4.3131189 ]\n"
     ]
    }
   ],
   "source": [
    "error = abs(ypred-Y1)\n",
    "print(error)"
   ]
  },
  {
   "cell_type": "code",
   "execution_count": 70,
   "metadata": {},
   "outputs": [
    {
     "data": {
      "image/png": "[encoded data removed]",
      "text/plain": [
       "<Figure size 432x288 with 1 Axes>"
      ]
     },
     "metadata": {
      "needs_background": "light"
     },
     "output_type": "display_data"
    }
   ],
   "source": [
    "plt.scatter(X1,Y1)\n",
    "plt.plot(X1,ypred)\n",
    "plt.show()"
   ]
  },
  {
   "cell_type": "code",
   "execution_count": 72,
   "metadata": {},
   "outputs": [
    {
     "name": "stdout",
     "output_type": "stream",
     "text": [
      "[  5.48856453  -5.80966871   1.14524489  -3.13634357  -9.34301798\n",
      "  -1.91562313   1.73023858  -5.24477924  -2.33361146  -8.22301097\n",
      "  -4.6619463    2.20929232  -4.80916763  -0.86870037   7.55503659\n",
      "  -8.42481135   5.39768523   2.18122783  -5.20149179   6.05183883\n",
      "  -5.08567305  -3.44688622   8.69217302  -3.0733474    7.72229769\n",
      "  -6.28818726  -2.6929387   -6.9500652   -2.49464016   2.9587738\n",
      "   5.73891198  -0.94755538  -0.35079779   3.11850108   3.78009286\n",
      "   6.50613925   0.41165696  -6.86454422  -6.74489631   1.71244756\n",
      "  -9.82727038   1.39278081   2.51193431   3.48860586  -3.17769683\n",
      "  -2.31280843   7.5910134   -6.05218655  -4.38755694   0.64494546\n",
      "   1.16242838  -2.79415272 -10.75530494   5.47177064  -4.26533247\n",
      "   4.64971567   5.80137365  11.83257952   3.74042213  11.2692631\n",
      "  -8.99872977  -2.2192942    2.22074741  -6.57953844  -3.98788633\n",
      "  -5.69205603   0.23785084   7.29224042  -2.95692285  -0.08235888\n",
      "   5.09646671   1.42855825  -0.23819535  -4.57240845  -0.08713598\n",
      "   3.35338742  -0.88712214   9.63248125   7.12108823   1.45268264\n",
      "   0.51349906  -2.87758598   0.89944662   6.16918242  -4.67276712\n",
      "  -0.25294525  -3.8797665   -2.35392517  -2.44656227  -2.08841209\n",
      "   2.97781137   0.28933478   1.68198652   7.33714043   3.37517431\n",
      "   4.27809124  -2.38394999   4.3502551   -0.23592362   4.3131189 ]\n",
      "[  89.69257833  -39.89638822  -46.63292494   89.42033922   17.82407077\n",
      "    8.29872683    3.27571495   50.49822793   52.13235597   41.51680778\n",
      "  -76.01946688   76.6981619    -4.2664476    35.7847606   -60.75063975\n",
      "   -0.36326355   60.82231625   59.34288491  -36.98560217  -10.6176875\n",
      "  -57.11382192   38.03211295  -60.93518315  -94.24327145  -44.98639125\n",
      "   52.42959182  -29.50285361   39.78212538  -23.84176236   84.46901493\n",
      "  -15.7543236   -99.23564099  -91.39066834  -74.13261561   24.01868777\n",
      "   21.2117853    52.82332274   53.11618798   -3.0867646    19.48239829\n",
      "   17.03210986   17.73035667   -8.76757338   58.94539772   71.74981486\n",
      "  -73.70982402   53.88590737   31.08834325  -89.58372948  -33.37846604\n",
      "  -32.66573479   71.75448929 -101.05268538  -29.40070097   47.104732\n",
      "  -57.45630386   57.95490843    3.41023021    7.20482735   79.25714855\n",
      "  -36.78983478  -88.30802771  -80.46409784  -20.19460854   60.43755636\n",
      "  -11.46650931  -82.54073311  -53.48291188   25.67819668  -79.48083454\n",
      "   -6.88146829  -93.62978516  -24.89639482  -57.25525385  -28.00528533\n",
      "   83.83726008   13.00805768    3.86526513  -62.54945127   64.64614532\n",
      "  -22.59782176  -37.56806651   42.29158857   80.10685199  -41.16019881\n",
      "   81.65790635   -4.04022188   51.04237231   -8.78821812   15.1603373\n",
      "   17.27628856   48.19043536  -72.0764495    43.83640095   21.94690103\n",
      "   55.60984486   35.41146488   40.60715078  -43.69018151  -20.76337243]\n"
     ]
    }
   ],
   "source": [
    "ss = Y1-ypred\n",
    "sr = Y1-Y1.mean()\n",
    "print(ss)\n",
    "print(sr)"
   ]
  },
  {
   "cell_type": "code",
   "execution_count": 74,
   "metadata": {},
   "outputs": [
    {
     "name": "stdout",
     "output_type": "stream",
     "text": [
      "R2 score: 0.9911838202977805\n"
     ]
    }
   ],
   "source": [
    "r2score = 1 -ss.dot(ss)/sr.dot(sr)\n",
    "print(\"R2 score:\",r2score)"
   ]
  },
  {
   "cell_type": "code",
   "execution_count": 75,
   "metadata": {},
   "outputs": [
    {
     "name": "stdout",
     "output_type": "stream",
     "text": [
      "R2 score : 0.9911838202977805\n"
     ]
    }
   ],
   "source": [
    "from sklearn.metrics import r2_score\n",
    "print(\"R2 score :\",r2_score(Y1,ypred))\n"
   ]
  },
  {
   "cell_type": "code",
   "execution_count": null,
   "metadata": {},
   "outputs": [],
   "source": []
  }
 ],
 "metadata": {
  "kernelspec": {
   "display_name": "Python 3",
   "language": "python",
   "name": "python3"
  },
  "language_info": {
   "codemirror_mode": {
    "name": "ipython",
    "version": 3
   },
   "file_extension": ".py",
   "mimetype": "text/x-python",
   "name": "python",
   "nbconvert_exporter": "python",
   "pygments_lexer": "ipython3",
   "version": "3.7.6"
  }
 },
 "nbformat": 4,
 "nbformat_minor": 4
}
