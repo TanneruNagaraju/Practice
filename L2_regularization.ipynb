{
 "cells": [
  {
   "cell_type": "code",
   "execution_count": 98,
   "metadata": {},
   "outputs": [],
   "source": [
    "import numpy as np\n",
    "import pandas as pd\n",
    "import matplotlib.pyplot as plt\n"
   ]
  },
  {
   "cell_type": "code",
   "execution_count": 99,
   "metadata": {},
   "outputs": [],
   "source": [
    "N = 50\n",
    "X = np.linspace(0,10,N)\n",
    "Y = 0.5*X+np.random.randn(N)"
   ]
  },
  {
   "cell_type": "code",
   "execution_count": 100,
   "metadata": {},
   "outputs": [
    {
     "name": "stdout",
     "output_type": "stream",
     "text": [
      "[ 0.          0.20408163  0.40816327  0.6122449   0.81632653  1.02040816\n",
      "  1.2244898   1.42857143  1.63265306  1.83673469  2.04081633  2.24489796\n",
      "  2.44897959  2.65306122  2.85714286  3.06122449  3.26530612  3.46938776\n",
      "  3.67346939  3.87755102  4.08163265  4.28571429  4.48979592  4.69387755\n",
      "  4.89795918  5.10204082  5.30612245  5.51020408  5.71428571  5.91836735\n",
      "  6.12244898  6.32653061  6.53061224  6.73469388  6.93877551  7.14285714\n",
      "  7.34693878  7.55102041  7.75510204  7.95918367  8.16326531  8.36734694\n",
      "  8.57142857  8.7755102   8.97959184  9.18367347  9.3877551   9.59183673\n",
      "  9.79591837 10.        ]\n"
     ]
    }
   ],
   "source": [
    "print(X)"
   ]
  },
  {
   "cell_type": "code",
   "execution_count": 101,
   "metadata": {},
   "outputs": [
    {
     "data": {
      "text/plain": [
       "array([0.        , 0.10204082, 0.20408163, 0.30612245, 0.40816327,\n",
       "       0.51020408, 0.6122449 , 0.71428571, 0.81632653, 0.91836735,\n",
       "       1.02040816, 1.12244898, 1.2244898 , 1.32653061, 1.42857143,\n",
       "       1.53061224, 1.63265306, 1.73469388, 1.83673469, 1.93877551,\n",
       "       2.04081633, 2.14285714, 2.24489796, 2.34693878, 2.44897959,\n",
       "       2.55102041, 2.65306122, 2.75510204, 2.85714286, 2.95918367,\n",
       "       3.06122449, 3.16326531, 3.26530612, 3.36734694, 3.46938776,\n",
       "       3.57142857, 3.67346939, 3.7755102 , 3.87755102, 3.97959184,\n",
       "       4.08163265, 4.18367347, 4.28571429, 4.3877551 , 4.48979592,\n",
       "       4.59183673, 4.69387755, 4.79591837, 4.89795918, 5.        ])"
      ]
     },
     "execution_count": 101,
     "metadata": {},
     "output_type": "execute_result"
    }
   ],
   "source": [
    "0.5*X"
   ]
  },
  {
   "cell_type": "code",
   "execution_count": 102,
   "metadata": {},
   "outputs": [
    {
     "data": {
      "text/plain": [
       "array([ 0.45249164,  0.54342265, -1.59901294, -0.09344835,  2.16094074,\n",
       "       -0.51468995, -0.65918292,  1.03819139, -0.87691156, -1.19119338,\n",
       "        1.22894923, -0.30345278,  0.23209826, -1.66005529,  0.86781074,\n",
       "        0.93360885, -0.34902873,  0.91602069, -0.50367422, -1.33736242,\n",
       "        0.47486959,  2.21903816,  0.38434991,  0.05461562, -0.47502672,\n",
       "        0.81927834, -1.12318257,  0.58390851,  0.94861254,  1.69597644,\n",
       "       -1.0233101 ,  0.03039879,  1.03703072,  0.2911873 , -1.96651972,\n",
       "        0.00462873, -1.27683813,  1.51214602, -0.35773241, -1.20551675,\n",
       "        1.86511939, -0.30560356,  1.07265455, -0.52751195, -1.02698948,\n",
       "       -0.5849869 , -1.00790857, -0.0333462 ,  1.00946891, -0.79502805])"
      ]
     },
     "execution_count": 102,
     "metadata": {},
     "output_type": "execute_result"
    }
   ],
   "source": [
    "np.random.randn(N)"
   ]
  },
  {
   "cell_type": "code",
   "execution_count": 103,
   "metadata": {},
   "outputs": [
    {
     "name": "stdout",
     "output_type": "stream",
     "text": [
      "[ 1.61065971 -0.38148123  0.78109772  0.69397249  0.50261196  1.86956885\n",
      " -0.52364733  1.24469098  0.39126049 -0.34542274  1.195529    1.69076198\n",
      "  1.66155637  0.43165189  1.38222344  0.90451534  1.85324222  2.40619367\n",
      "  1.53950021  1.74579915  1.27082672  0.4514512   1.87696591  4.83111603\n",
      "  1.8698339   2.54880335  3.50362328  3.00487185  1.75748622  1.70645444\n",
      "  4.01907919  2.81414156  3.61580499  2.83171056  2.54007131  2.95970812\n",
      "  2.29697546  2.32685623  2.71779969  4.57830952  4.57280166  4.05338843\n",
      "  3.57128164  5.06886998  4.59061482  6.34370832  4.80323381  5.07499463\n",
      "  4.77911969  5.21234754]\n"
     ]
    }
   ],
   "source": [
    "print(Y)"
   ]
  },
  {
   "cell_type": "code",
   "execution_count": 104,
   "metadata": {},
   "outputs": [
    {
     "data": {
      "image/png": "[encoded data removed]",
      "text/plain": [
       "<Figure size 432x288 with 1 Axes>"
      ]
     },
     "metadata": {
      "needs_background": "light"
     },
     "output_type": "display_data"
    }
   ],
   "source": [
    "#before applying outliers\n",
    "plt.scatter(X,Y)\n",
    "plt.show()"
   ]
  },
  {
   "cell_type": "code",
   "execution_count": 105,
   "metadata": {},
   "outputs": [],
   "source": [
    "#Creating outliers\n",
    "Y[-1] += 30\n",
    "Y[-2] += 40"
   ]
  },
  {
   "cell_type": "code",
   "execution_count": 106,
   "metadata": {},
   "outputs": [
    {
     "name": "stdout",
     "output_type": "stream",
     "text": [
      "35.21234754173302 44.779119694429156\n"
     ]
    }
   ],
   "source": [
    "print(Y[-1],Y[-2])"
   ]
  },
  {
   "cell_type": "code",
   "execution_count": 107,
   "metadata": {},
   "outputs": [
    {
     "name": "stdout",
     "output_type": "stream",
     "text": [
      "[ 1.61065971 -0.38148123  0.78109772  0.69397249  0.50261196  1.86956885\n",
      " -0.52364733  1.24469098  0.39126049 -0.34542274  1.195529    1.69076198\n",
      "  1.66155637  0.43165189  1.38222344  0.90451534  1.85324222  2.40619367\n",
      "  1.53950021  1.74579915  1.27082672  0.4514512   1.87696591  4.83111603\n",
      "  1.8698339   2.54880335  3.50362328  3.00487185  1.75748622  1.70645444\n",
      "  4.01907919  2.81414156  3.61580499  2.83171056  2.54007131  2.95970812\n",
      "  2.29697546  2.32685623  2.71779969  4.57830952  4.57280166  4.05338843\n",
      "  3.57128164  5.06886998  4.59061482  6.34370832  4.80323381  5.07499463\n",
      " 44.77911969 35.21234754]\n"
     ]
    }
   ],
   "source": [
    "print(Y)"
   ]
  },
  {
   "cell_type": "code",
   "execution_count": 108,
   "metadata": {},
   "outputs": [
    {
     "data": {
      "image/png": "[encoded data removed]",
      "text/plain": [
       "<Figure size 432x288 with 1 Axes>"
      ]
     },
     "metadata": {
      "needs_background": "light"
     },
     "output_type": "display_data"
    }
   ],
   "source": [
    "#after applying outliers\n",
    "plt.scatter(X,Y)\n",
    "plt.show()"
   ]
  },
  {
   "cell_type": "code",
   "execution_count": 109,
   "metadata": {},
   "outputs": [],
   "source": [
    "#Adding bias term to input data\n",
    "X = np.vstack([np.ones(N),X]).T"
   ]
  },
  {
   "cell_type": "code",
   "execution_count": 110,
   "metadata": {},
   "outputs": [
    {
     "name": "stdout",
     "output_type": "stream",
     "text": [
      "[[ 1.          0.        ]\n",
      " [ 1.          0.20408163]\n",
      " [ 1.          0.40816327]\n",
      " [ 1.          0.6122449 ]\n",
      " [ 1.          0.81632653]\n",
      " [ 1.          1.02040816]\n",
      " [ 1.          1.2244898 ]\n",
      " [ 1.          1.42857143]\n",
      " [ 1.          1.63265306]\n",
      " [ 1.          1.83673469]\n",
      " [ 1.          2.04081633]\n",
      " [ 1.          2.24489796]\n",
      " [ 1.          2.44897959]\n",
      " [ 1.          2.65306122]\n",
      " [ 1.          2.85714286]\n",
      " [ 1.          3.06122449]\n",
      " [ 1.          3.26530612]\n",
      " [ 1.          3.46938776]\n",
      " [ 1.          3.67346939]\n",
      " [ 1.          3.87755102]\n",
      " [ 1.          4.08163265]\n",
      " [ 1.          4.28571429]\n",
      " [ 1.          4.48979592]\n",
      " [ 1.          4.69387755]\n",
      " [ 1.          4.89795918]\n",
      " [ 1.          5.10204082]\n",
      " [ 1.          5.30612245]\n",
      " [ 1.          5.51020408]\n",
      " [ 1.          5.71428571]\n",
      " [ 1.          5.91836735]\n",
      " [ 1.          6.12244898]\n",
      " [ 1.          6.32653061]\n",
      " [ 1.          6.53061224]\n",
      " [ 1.          6.73469388]\n",
      " [ 1.          6.93877551]\n",
      " [ 1.          7.14285714]\n",
      " [ 1.          7.34693878]\n",
      " [ 1.          7.55102041]\n",
      " [ 1.          7.75510204]\n",
      " [ 1.          7.95918367]\n",
      " [ 1.          8.16326531]\n",
      " [ 1.          8.36734694]\n",
      " [ 1.          8.57142857]\n",
      " [ 1.          8.7755102 ]\n",
      " [ 1.          8.97959184]\n",
      " [ 1.          9.18367347]\n",
      " [ 1.          9.3877551 ]\n",
      " [ 1.          9.59183673]\n",
      " [ 1.          9.79591837]\n",
      " [ 1.         10.        ]]\n"
     ]
    }
   ],
   "source": [
    "print(X)"
   ]
  },
  {
   "cell_type": "code",
   "execution_count": 111,
   "metadata": {},
   "outputs": [
    {
     "name": "stdout",
     "output_type": "stream",
     "text": [
      "[-2.4933647   1.26765908]\n"
     ]
    }
   ],
   "source": [
    "#weights\n",
    "w_maxlike = np.linalg.solve(np.dot(X.T,X),np.dot(X.T,Y)) \n",
    "print(w_maxlike)"
   ]
  },
  {
   "cell_type": "code",
   "execution_count": 112,
   "metadata": {},
   "outputs": [
    {
     "name": "stdout",
     "output_type": "stream",
     "text": [
      "[-2.4933647  -2.23465877 -1.97595284 -1.7172469  -1.45854097 -1.19983503\n",
      " -0.9411291  -0.68242316 -0.42371723 -0.1650113   0.09369464  0.35240057\n",
      "  0.61110651  0.86981244  1.12851838  1.38722431  1.64593024  1.90463618\n",
      "  2.16334211  2.42204805  2.68075398  2.93945991  3.19816585  3.45687178\n",
      "  3.71557772  3.97428365  4.23298959  4.49169552  4.75040145  5.00910739\n",
      "  5.26781332  5.52651926  5.78522519  6.04393113  6.30263706  6.56134299\n",
      "  6.82004893  7.07875486  7.3374608   7.59616673  7.85487267  8.1135786\n",
      "  8.37228453  8.63099047  8.8896964   9.14840234  9.40710827  9.66581421\n",
      "  9.92452014 10.18322607]\n"
     ]
    }
   ],
   "source": [
    "#predictions\n",
    "Ypred = np.dot(X,w_maxlike)\n",
    "print(Ypred)"
   ]
  },
  {
   "cell_type": "code",
   "execution_count": 114,
   "metadata": {},
   "outputs": [
    {
     "data": {
      "image/png": "[encoded data removed]",
      "text/plain": [
       "<Figure size 432x288 with 1 Axes>"
      ]
     },
     "metadata": {
      "needs_background": "light"
     },
     "output_type": "display_data"
    }
   ],
   "source": [
    "#Maxlikelihood plot\n",
    "plt.scatter(X[:,1],Y)\n",
    "plt.plot(X[:,1],Ypred)\n",
    "plt.show()"
   ]
  },
  {
   "cell_type": "code",
   "execution_count": 115,
   "metadata": {},
   "outputs": [],
   "source": [
    "l2 = 1000.0\n"
   ]
  },
  {
   "cell_type": "code",
   "execution_count": 117,
   "metadata": {},
   "outputs": [
    {
     "name": "stdout",
     "output_type": "stream",
     "text": [
      "[[1000.    0.]\n",
      " [   0. 1000.]]\n"
     ]
    }
   ],
   "source": [
    "print(l2*np.eye(2))"
   ]
  },
  {
   "cell_type": "code",
   "execution_count": 121,
   "metadata": {},
   "outputs": [
    {
     "name": "stdout",
     "output_type": "stream",
     "text": [
      "[[  50.          250.        ]\n",
      " [ 250.         1683.67346939]]\n"
     ]
    }
   ],
   "source": [
    "print(np.dot(X.T,X))"
   ]
  },
  {
   "cell_type": "code",
   "execution_count": 124,
   "metadata": {},
   "outputs": [
    {
     "name": "stdout",
     "output_type": "stream",
     "text": [
      "[ 192.24653424 1510.98278145]\n"
     ]
    }
   ],
   "source": [
    "print(np.dot(X.T,Y))"
   ]
  },
  {
   "cell_type": "code",
   "execution_count": 126,
   "metadata": {},
   "outputs": [
    {
     "name": "stdout",
     "output_type": "stream",
     "text": [
      "[0.05015002 0.55835603]\n"
     ]
    }
   ],
   "source": [
    "w_maxposterior = np.linalg.solve(l2*np.eye(2)+np.dot(X.T,X),np.dot(X.T,Y))\n",
    "print(w_maxposterior)"
   ]
  },
  {
   "cell_type": "code",
   "execution_count": 127,
   "metadata": {},
   "outputs": [
    {
     "name": "stdout",
     "output_type": "stream",
     "text": [
      "[0.05015002 0.16410024 0.27805045 0.39200066 0.50595087 0.61990108\n",
      " 0.73385129 0.8478015  0.96175171 1.07570192 1.18965213 1.30360235\n",
      " 1.41755256 1.53150277 1.64545298 1.75940319 1.8733534  1.98730361\n",
      " 2.10125382 2.21520403 2.32915425 2.44310446 2.55705467 2.67100488\n",
      " 2.78495509 2.8989053  3.01285551 3.12680572 3.24075593 3.35470614\n",
      " 3.46865636 3.58260657 3.69655678 3.81050699 3.9244572  4.03840741\n",
      " 4.15235762 4.26630783 4.38025804 4.49420826 4.60815847 4.72210868\n",
      " 4.83605889 4.9500091  5.06395931 5.17790952 5.29185973 5.40580994\n",
      " 5.51976015 5.63371037]\n"
     ]
    }
   ],
   "source": [
    "Ypred1 = np.dot(X,w_maxposterior)\n",
    "print(Ypred1)"
   ]
  },
  {
   "cell_type": "code",
   "execution_count": 131,
   "metadata": {},
   "outputs": [
    {
     "data": {
      "image/png": "[encoded data removed]",
      "text/plain": [
       "<Figure size 432x288 with 1 Axes>"
      ]
     },
     "metadata": {
      "needs_background": "light"
     },
     "output_type": "display_data"
    }
   ],
   "source": [
    "plt.scatter(X[:,1],Y)\n",
    "plt.plot(X[:,1],Ypred)\n",
    "plt.plot(X[:,1],Ypred1)\n",
    "plt.show()"
   ]
  },
  {
   "cell_type": "code",
   "execution_count": null,
   "metadata": {},
   "outputs": [],
   "source": []
  },
  {
   "cell_type": "code",
   "execution_count": null,
   "metadata": {},
   "outputs": [],
   "source": []
  }
 ],
 "metadata": {
  "kernelspec": {
   "display_name": "Python 3",
   "language": "python",
   "name": "python3"
  },
  "language_info": {
   "codemirror_mode": {
    "name": "ipython",
    "version": 3
   },
   "file_extension": ".py",
   "mimetype": "text/x-python",
   "name": "python",
   "nbconvert_exporter": "python",
   "pygments_lexer": "ipython3",
   "version": "3.7.6"
  }
 },
 "nbformat": 4,
 "nbformat_minor": 4
}
